{
 "cells": [
  {
   "cell_type": "code",
   "execution_count": 1,
   "metadata": {},
   "outputs": [],
   "source": [
    "import ipywidgets as widgets\n",
    "from IPython.display import display, clear_output, Markdown"
   ]
  },
  {
   "cell_type": "code",
   "execution_count": 15,
   "metadata": {},
   "outputs": [],
   "source": [
    "class Customer:\n",
    "    def __init__(self):\n",
    "        self.firstname = 'Firstname'\n",
    "        self.lastname = 'Lastname'\n",
    "        self.adress = 'Home adress'\n",
    "        self.birthday = ''\n",
    "        self.diet = []\n",
    "        self.cusine = []\n",
    "           \n",
    "    def update_customer(self, firstname,lastname,homeadress,diets,cusine):\n",
    "        self.firstname=firstname\n",
    "        self.lastname = lastname\n",
    "        self.adress= homeadress\n",
    "        self.diet = diets\n",
    "        self.cusine = cusine\n",
    "  \n",
    "    \n",
    "\n",
    "class Customer_Buttons:\n",
    "    \n",
    "    def __init__(self):\n",
    "        \n",
    "        #These should be read from database\n",
    "        self.cusine = [\"Italian\",\"French\",\"Scandinavian\"]\n",
    "        self.diets  = [\"vegan\",\"vegetarian\",\"gluten-free\"]\n",
    "    \n",
    "\n",
    "    \n",
    "    def customer_info(self,customer):\n",
    "\n",
    "        firstname = widgets.Text(\n",
    "           value= customer.firstname ,\n",
    "           description='Firstname:', )\n",
    "        lastname = widgets.Text(\n",
    "           value= customer.lastname,\n",
    "           description='Lastname:', )\n",
    "        homeadress = widgets.Text(\n",
    "           value= customer.adress,\n",
    "           description='Home adress:', )\n",
    "        birthday = widgets.DatePicker(\n",
    "               description='Birthday:')\n",
    "        \n",
    "        diettab = widgets.Tab()\n",
    "        dietboxes = {widgets.Checkbox(value=False,description=diet,disabled=False,indent=False) for diet in self.diets}\n",
    "        diets = widgets.VBox([k for k in dietboxes])\n",
    "        diettab.children = [diets]\n",
    "        diettab.set_title(0, 'Diets')\n",
    "\n",
    "        cusinetab = widgets.Tab()\n",
    "        cusineboxes = {widgets.Checkbox(value=False,description=c,disabled=False,indent=False) for c in self.cusine}\n",
    "        cusine = widgets.VBox([k for k in cusineboxes])\n",
    "        cusinetab.children = [cusine]\n",
    "        cusinetab.set_title(0, 'Prefered Cusine')\n",
    "\n",
    "        button = widgets.Button(description='Save')\n",
    "        out = widgets.Output()\n",
    "        box = widgets.VBox([firstname, lastname, homeadress, birthday, diettab, cusinetab, button,out])        \n",
    "        def on_button_clicked(_):\n",
    "            # \"linking function with output\"\n",
    "            with out:\n",
    "                # what happens when we press the button\n",
    "                clear_output()\n",
    "                diets = [c.description for c in diettab.children[0].children if c.value is True]\n",
    "                #print(diets)\n",
    "                cusine = [c.description for c in cusinetab.children[0].children if c.value is True]\n",
    "                customer.update_customer(firstname.value,lastname.value,homeadress.value,diets,cusine)\n",
    "                \n",
    "\n",
    "        button.on_click(on_button_clicked)\n",
    "        return box\n",
    "        "
   ]
  },
  {
   "cell_type": "code",
   "execution_count": 14,
   "metadata": {},
   "outputs": [
    {
     "data": {
      "application/vnd.jupyter.widget-view+json": {
       "model_id": "277c15a9b53340b9ae894d28b6ed4040",
       "version_major": 2,
       "version_minor": 0
      },
      "text/plain": [
       "VBox(children=(Text(value='Firstname', description='Firstname:'), Text(value='Lastname', description='Lastname…"
      ]
     },
     "metadata": {},
     "output_type": "display_data"
    }
   ],
   "source": [
    "#create new customer\n",
    "customer1 = Customer()\n",
    "#create new \"interface\"\n",
    "interface1 = Customer_Buttons()\n",
    "interface1.customer_info(customer1)"
   ]
  },
  {
   "cell_type": "code",
   "execution_count": 11,
   "metadata": {},
   "outputs": [
    {
     "name": "stdout",
     "output_type": "stream",
     "text": [
      "Anna\n"
     ]
    }
   ],
   "source": [
    "#check that customer firstname changes after pushing button\n",
    "print(customer1.firstname)"
   ]
  },
  {
   "cell_type": "code",
   "execution_count": 12,
   "metadata": {},
   "outputs": [],
   "source": [
    "class Restaurant:\n",
    "    def __init__(self,restaurantname, restaurantadress, diets, cusine):\n",
    "        self.restaurantname = restaurantname\n",
    "        self.restaurantadress = restaurantadress\n",
    "        self.diets = diets\n",
    "        self.cusine = cusine"
   ]
  }
 ],
 "metadata": {
  "kernelspec": {
   "display_name": "Python 3",
   "language": "python",
   "name": "python3"
  },
  "language_info": {
   "codemirror_mode": {
    "name": "ipython",
    "version": 3
   },
   "file_extension": ".py",
   "mimetype": "text/x-python",
   "name": "python",
   "nbconvert_exporter": "python",
   "pygments_lexer": "ipython3",
   "version": "3.8.3"
  }
 },
 "nbformat": 4,
 "nbformat_minor": 4
}
